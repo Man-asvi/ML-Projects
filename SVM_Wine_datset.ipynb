{
  "nbformat": 4,
  "nbformat_minor": 0,
  "metadata": {
    "colab": {
      "provenance": [],
      "authorship_tag": "ABX9TyO0244dnLg7xunRtJn+/0Zk"
    },
    "kernelspec": {
      "name": "python3",
      "display_name": "Python 3"
    },
    "language_info": {
      "name": "python"
    }
  },
  "cells": [
    {
      "cell_type": "code",
      "execution_count": null,
      "metadata": {
        "id": "om-5vzDEfWEO"
      },
      "outputs": [],
      "source": [
        "from sklearn.svm import LinearSVC\n",
        "from sklearn import datasets\n",
        "from sklearn.preprocessing import StandardScaler\n",
        "import numpy as np"
      ]
    },
    {
      "cell_type": "code",
      "source": [
        "# Load Data\n",
        "wine = datasets.load_wine()\n",
        "wine"
      ],
      "metadata": {
        "colab": {
          "base_uri": "https://localhost:8080/"
        },
        "id": "B41d0ff8feYO",
        "outputId": "1308828d-dbfe-47db-b571-b6de3ed48c5c"
      },
      "execution_count": null,
      "outputs": [
        {
          "output_type": "execute_result",
          "data": {
            "text/plain": [
              "{'data': array([[1.423e+01, 1.710e+00, 2.430e+00, ..., 1.040e+00, 3.920e+00,\n",
              "         1.065e+03],\n",
              "        [1.320e+01, 1.780e+00, 2.140e+00, ..., 1.050e+00, 3.400e+00,\n",
              "         1.050e+03],\n",
              "        [1.316e+01, 2.360e+00, 2.670e+00, ..., 1.030e+00, 3.170e+00,\n",
              "         1.185e+03],\n",
              "        ...,\n",
              "        [1.327e+01, 4.280e+00, 2.260e+00, ..., 5.900e-01, 1.560e+00,\n",
              "         8.350e+02],\n",
              "        [1.317e+01, 2.590e+00, 2.370e+00, ..., 6.000e-01, 1.620e+00,\n",
              "         8.400e+02],\n",
              "        [1.413e+01, 4.100e+00, 2.740e+00, ..., 6.100e-01, 1.600e+00,\n",
              "         5.600e+02]]),\n",
              " 'target': array([0, 0, 0, 0, 0, 0, 0, 0, 0, 0, 0, 0, 0, 0, 0, 0, 0, 0, 0, 0, 0, 0,\n",
              "        0, 0, 0, 0, 0, 0, 0, 0, 0, 0, 0, 0, 0, 0, 0, 0, 0, 0, 0, 0, 0, 0,\n",
              "        0, 0, 0, 0, 0, 0, 0, 0, 0, 0, 0, 0, 0, 0, 0, 1, 1, 1, 1, 1, 1, 1,\n",
              "        1, 1, 1, 1, 1, 1, 1, 1, 1, 1, 1, 1, 1, 1, 1, 1, 1, 1, 1, 1, 1, 1,\n",
              "        1, 1, 1, 1, 1, 1, 1, 1, 1, 1, 1, 1, 1, 1, 1, 1, 1, 1, 1, 1, 1, 1,\n",
              "        1, 1, 1, 1, 1, 1, 1, 1, 1, 1, 1, 1, 1, 1, 1, 1, 1, 1, 1, 1, 2, 2,\n",
              "        2, 2, 2, 2, 2, 2, 2, 2, 2, 2, 2, 2, 2, 2, 2, 2, 2, 2, 2, 2, 2, 2,\n",
              "        2, 2, 2, 2, 2, 2, 2, 2, 2, 2, 2, 2, 2, 2, 2, 2, 2, 2, 2, 2, 2, 2,\n",
              "        2, 2]),\n",
              " 'frame': None,\n",
              " 'target_names': array(['class_0', 'class_1', 'class_2'], dtype='<U7'),\n",
              " 'DESCR': '.. _wine_dataset:\\n\\nWine recognition dataset\\n------------------------\\n\\n**Data Set Characteristics:**\\n\\n    :Number of Instances: 178\\n    :Number of Attributes: 13 numeric, predictive attributes and the class\\n    :Attribute Information:\\n \\t\\t- Alcohol\\n \\t\\t- Malic acid\\n \\t\\t- Ash\\n\\t\\t- Alcalinity of ash  \\n \\t\\t- Magnesium\\n\\t\\t- Total phenols\\n \\t\\t- Flavanoids\\n \\t\\t- Nonflavanoid phenols\\n \\t\\t- Proanthocyanins\\n\\t\\t- Color intensity\\n \\t\\t- Hue\\n \\t\\t- OD280/OD315 of diluted wines\\n \\t\\t- Proline\\n\\n    - class:\\n            - class_0\\n            - class_1\\n            - class_2\\n\\t\\t\\n    :Summary Statistics:\\n    \\n    ============================= ==== ===== ======= =====\\n                                   Min   Max   Mean     SD\\n    ============================= ==== ===== ======= =====\\n    Alcohol:                      11.0  14.8    13.0   0.8\\n    Malic Acid:                   0.74  5.80    2.34  1.12\\n    Ash:                          1.36  3.23    2.36  0.27\\n    Alcalinity of Ash:            10.6  30.0    19.5   3.3\\n    Magnesium:                    70.0 162.0    99.7  14.3\\n    Total Phenols:                0.98  3.88    2.29  0.63\\n    Flavanoids:                   0.34  5.08    2.03  1.00\\n    Nonflavanoid Phenols:         0.13  0.66    0.36  0.12\\n    Proanthocyanins:              0.41  3.58    1.59  0.57\\n    Colour Intensity:              1.3  13.0     5.1   2.3\\n    Hue:                          0.48  1.71    0.96  0.23\\n    OD280/OD315 of diluted wines: 1.27  4.00    2.61  0.71\\n    Proline:                       278  1680     746   315\\n    ============================= ==== ===== ======= =====\\n\\n    :Missing Attribute Values: None\\n    :Class Distribution: class_0 (59), class_1 (71), class_2 (48)\\n    :Creator: R.A. Fisher\\n    :Donor: Michael Marshall (MARSHALL%PLU@io.arc.nasa.gov)\\n    :Date: July, 1988\\n\\nThis is a copy of UCI ML Wine recognition datasets.\\nhttps://archive.ics.uci.edu/ml/machine-learning-databases/wine/wine.data\\n\\nThe data is the results of a chemical analysis of wines grown in the same\\nregion in Italy by three different cultivators. There are thirteen different\\nmeasurements taken for different constituents found in the three types of\\nwine.\\n\\nOriginal Owners: \\n\\nForina, M. et al, PARVUS - \\nAn Extendible Package for Data Exploration, Classification and Correlation. \\nInstitute of Pharmaceutical and Food Analysis and Technologies,\\nVia Brigata Salerno, 16147 Genoa, Italy.\\n\\nCitation:\\n\\nLichman, M. (2013). UCI Machine Learning Repository\\n[https://archive.ics.uci.edu/ml]. Irvine, CA: University of California,\\nSchool of Information and Computer Science. \\n\\n.. topic:: References\\n\\n  (1) S. Aeberhard, D. Coomans and O. de Vel, \\n  Comparison of Classifiers in High Dimensional Settings, \\n  Tech. Rep. no. 92-02, (1992), Dept. of Computer Science and Dept. of  \\n  Mathematics and Statistics, James Cook University of North Queensland. \\n  (Also submitted to Technometrics). \\n\\n  The data was used with many others for comparing various \\n  classifiers. The classes are separable, though only RDA \\n  has achieved 100% correct classification. \\n  (RDA : 100%, QDA 99.4%, LDA 98.9%, 1NN 96.1% (z-transformed data)) \\n  (All results using the leave-one-out technique) \\n\\n  (2) S. Aeberhard, D. Coomans and O. de Vel, \\n  \"THE CLASSIFICATION PERFORMANCE OF RDA\" \\n  Tech. Rep. no. 92-01, (1992), Dept. of Computer Science and Dept. of \\n  Mathematics and Statistics, James Cook University of North Queensland. \\n  (Also submitted to Journal of Chemometrics).\\n',\n",
              " 'feature_names': ['alcohol',\n",
              "  'malic_acid',\n",
              "  'ash',\n",
              "  'alcalinity_of_ash',\n",
              "  'magnesium',\n",
              "  'total_phenols',\n",
              "  'flavanoids',\n",
              "  'nonflavanoid_phenols',\n",
              "  'proanthocyanins',\n",
              "  'color_intensity',\n",
              "  'hue',\n",
              "  'od280/od315_of_diluted_wines',\n",
              "  'proline']}"
            ]
          },
          "metadata": {},
          "execution_count": 12
        }
      ]
    },
    {
      "cell_type": "code",
      "source": [
        "features = wine.data[:100,:2]\n",
        "target = wine.target[:100]\n",
        "print(features)\n",
        "print(target)"
      ],
      "metadata": {
        "colab": {
          "base_uri": "https://localhost:8080/"
        },
        "id": "Ms8Md7xsgkUV",
        "outputId": "702deb99-a78c-4f39-a572-42835e2ff1f5"
      },
      "execution_count": null,
      "outputs": [
        {
          "output_type": "stream",
          "name": "stdout",
          "text": [
            "[[14.23  1.71]\n",
            " [13.2   1.78]\n",
            " [13.16  2.36]\n",
            " [14.37  1.95]\n",
            " [13.24  2.59]\n",
            " [14.2   1.76]\n",
            " [14.39  1.87]\n",
            " [14.06  2.15]\n",
            " [14.83  1.64]\n",
            " [13.86  1.35]\n",
            " [14.1   2.16]\n",
            " [14.12  1.48]\n",
            " [13.75  1.73]\n",
            " [14.75  1.73]\n",
            " [14.38  1.87]\n",
            " [13.63  1.81]\n",
            " [14.3   1.92]\n",
            " [13.83  1.57]\n",
            " [14.19  1.59]\n",
            " [13.64  3.1 ]\n",
            " [14.06  1.63]\n",
            " [12.93  3.8 ]\n",
            " [13.71  1.86]\n",
            " [12.85  1.6 ]\n",
            " [13.5   1.81]\n",
            " [13.05  2.05]\n",
            " [13.39  1.77]\n",
            " [13.3   1.72]\n",
            " [13.87  1.9 ]\n",
            " [14.02  1.68]\n",
            " [13.73  1.5 ]\n",
            " [13.58  1.66]\n",
            " [13.68  1.83]\n",
            " [13.76  1.53]\n",
            " [13.51  1.8 ]\n",
            " [13.48  1.81]\n",
            " [13.28  1.64]\n",
            " [13.05  1.65]\n",
            " [13.07  1.5 ]\n",
            " [14.22  3.99]\n",
            " [13.56  1.71]\n",
            " [13.41  3.84]\n",
            " [13.88  1.89]\n",
            " [13.24  3.98]\n",
            " [13.05  1.77]\n",
            " [14.21  4.04]\n",
            " [14.38  3.59]\n",
            " [13.9   1.68]\n",
            " [14.1   2.02]\n",
            " [13.94  1.73]\n",
            " [13.05  1.73]\n",
            " [13.83  1.65]\n",
            " [13.82  1.75]\n",
            " [13.77  1.9 ]\n",
            " [13.74  1.67]\n",
            " [13.56  1.73]\n",
            " [14.22  1.7 ]\n",
            " [13.29  1.97]\n",
            " [13.72  1.43]\n",
            " [12.37  0.94]\n",
            " [12.33  1.1 ]\n",
            " [12.64  1.36]\n",
            " [13.67  1.25]\n",
            " [12.37  1.13]\n",
            " [12.17  1.45]\n",
            " [12.37  1.21]\n",
            " [13.11  1.01]\n",
            " [12.37  1.17]\n",
            " [13.34  0.94]\n",
            " [12.21  1.19]\n",
            " [12.29  1.61]\n",
            " [13.86  1.51]\n",
            " [13.49  1.66]\n",
            " [12.99  1.67]\n",
            " [11.96  1.09]\n",
            " [11.66  1.88]\n",
            " [13.03  0.9 ]\n",
            " [11.84  2.89]\n",
            " [12.33  0.99]\n",
            " [12.7   3.87]\n",
            " [12.    0.92]\n",
            " [12.72  1.81]\n",
            " [12.08  1.13]\n",
            " [13.05  3.86]\n",
            " [11.84  0.89]\n",
            " [12.67  0.98]\n",
            " [12.16  1.61]\n",
            " [11.65  1.67]\n",
            " [11.64  2.06]\n",
            " [12.08  1.33]\n",
            " [12.08  1.83]\n",
            " [12.    1.51]\n",
            " [12.69  1.53]\n",
            " [12.29  2.83]\n",
            " [11.62  1.99]\n",
            " [12.47  1.52]\n",
            " [11.81  2.12]\n",
            " [12.29  1.41]\n",
            " [12.37  1.07]\n",
            " [12.29  3.17]]\n",
            "[0 0 0 0 0 0 0 0 0 0 0 0 0 0 0 0 0 0 0 0 0 0 0 0 0 0 0 0 0 0 0 0 0 0 0 0 0\n",
            " 0 0 0 0 0 0 0 0 0 0 0 0 0 0 0 0 0 0 0 0 0 0 1 1 1 1 1 1 1 1 1 1 1 1 1 1 1\n",
            " 1 1 1 1 1 1 1 1 1 1 1 1 1 1 1 1 1 1 1 1 1 1 1 1 1 1]\n"
          ]
        }
      ]
    },
    {
      "cell_type": "code",
      "source": [
        "# Standardize features\n",
        "scaler = StandardScaler()\n",
        "features_standardized = scaler.fit_transform(features)"
      ],
      "metadata": {
        "id": "0U-nAG08flTp"
      },
      "execution_count": null,
      "outputs": []
    },
    {
      "cell_type": "code",
      "source": [
        "# Create Support Vector Classifier\n",
        "svc = LinearSVC(C=20000)"
      ],
      "metadata": {
        "id": "hPdIAG9PfrgZ"
      },
      "execution_count": null,
      "outputs": []
    },
    {
      "cell_type": "code",
      "source": [
        "# Train Model\n",
        "model = svc.fit(features_standardized, target)"
      ],
      "metadata": {
        "colab": {
          "base_uri": "https://localhost:8080/"
        },
        "id": "jTJ0-cOgftwo",
        "outputId": "15ebb55a-40c8-4525-e2e3-8a62bcdf0e7d",
        "collapsed": true
      },
      "execution_count": null,
      "outputs": [
        {
          "output_type": "stream",
          "name": "stderr",
          "text": [
            "/usr/local/lib/python3.10/dist-packages/sklearn/svm/_base.py:1244: ConvergenceWarning: Liblinear failed to converge, increase the number of iterations.\n",
            "  warnings.warn(\n"
          ]
        }
      ]
    },
    {
      "cell_type": "code",
      "source": [
        "# Visualising the model\n",
        "from matplotlib import pyplot as plt\n",
        "color = [\"blue\" if c == 0 else \"black\" for c in target]\n",
        "plt.scatter(features_standardized[:,0],features_standardized[:,1], c=color)\n",
        "w = svc.coef_[0]\n",
        "a = -w[0]/w[1]\n",
        "xx = np.linspace(-0.5,0.5)\n",
        "yy = a * xx - (svc.intercept_[0]) / 2*w[1]\n",
        "plt.plot(xx,yy)\n",
        "plt.axis(\"off\"),plt.show"
      ],
      "metadata": {
        "colab": {
          "base_uri": "https://localhost:8080/",
          "height": 498
        },
        "id": "SasQwH2PfwiZ",
        "outputId": "64bedf91-ddec-456d-834c-5ad2ad7715b9"
      },
      "execution_count": null,
      "outputs": [
        {
          "output_type": "execute_result",
          "data": {
            "text/plain": [
              "((-2.115964641665548,\n",
              "  2.180700577565609,\n",
              "  -4.795974145634221,\n",
              "  4.887615653558586),\n",
              " <function matplotlib.pyplot.show(close=None, block=None)>)"
            ]
          },
          "metadata": {},
          "execution_count": 93
        },
        {
          "output_type": "display_data",
          "data": {
            "text/plain": [
              "<Figure size 640x480 with 1 Axes>"
            ],
            "image/png": "[encoded data removed]"
          },
          "metadata": {}
        }
      ]
    }
  ]
}